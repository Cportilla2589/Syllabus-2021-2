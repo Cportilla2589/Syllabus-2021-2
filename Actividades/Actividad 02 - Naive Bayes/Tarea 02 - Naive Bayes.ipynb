{
 "cells": [
  {
   "cell_type": "markdown",
   "id": "a37558da-35c8-4fe2-8acd-74659c658791",
   "metadata": {
    "id": "a37558da-35c8-4fe2-8acd-74659c658791"
   },
   "source": [
    "# Tarea 02 - Naive Bayes\n",
    "\n",
    "## Parte 01 - Evaluando el clasificador \\[2.5 pts\\]\n",
    "\n",
    "En esta tarea debes evaluar el clasificador **Naive Bayes** presentado en clases, que predecía si un correo era Spam o no. Para evaluarlo se pide que calcules:\n",
    "\n",
    "- El _accuracy_.\n",
    "- _Precision_ y _recall_.\n",
    "- _F1-Score_.\n",
    "- Curva de _Precision vs Recall_.\n",
    "- Curva ROC.\n",
    "\n",
    "Luego, en base a tus resultados, debes explicar que tan bueno crees que es el clasificador y si crees que se puede mejorar. Se espera que analices el resultado de **cada una de las métricas y gráficos**."
   ]
  },
  {
   "cell_type": "code",
   "execution_count": null,
   "id": "c274204c",
   "metadata": {
    "id": "a1b26f49"
   },
   "outputs": [],
   "source": [
    "# Realiza la pregunta aquí"
   ]
  },
  {
   "cell_type": "markdown",
   "id": "5d1e4061",
   "metadata": {},
   "source": [
    "Comenta tu solución **aquí**."
   ]
  },
  {
   "cell_type": "markdown",
   "id": "3b933ede",
   "metadata": {},
   "source": [
    "## Parte 02 - Usando TF-IDF \\[3 pts\\]\n",
    "\n",
    "En esta parte de la tarea debes averiguar cómo funciona la técnica de TF-IDF y aplicarla a tu solución. En concreto se pide que:\n",
    "\n",
    "1. **\\[1 pto\\]** Explica en qué consiste la técnica de TF-IDF y cómo puede ayudar en tareas de clasificación de texto.\n",
    "2. **\\[1.5 pts\\]** Repite el experimento de la parte 01, pero esta vez con el TF-IDF Vectorizer. ¿Cómo se comporta la solución? ¿Qué crees que pasó? **Ojo**: tienes que computar **cada una de las métricas y gráficos** de nuevo, y comparar en base a esos resultados"
   ]
  },
  {
   "cell_type": "code",
   "execution_count": null,
   "id": "58f2d1c6",
   "metadata": {},
   "outputs": [],
   "source": [
    "# Realiza la pregunta aquí"
   ]
  },
  {
   "cell_type": "markdown",
   "id": "0b84e959",
   "metadata": {
    "id": "0b84e959"
   },
   "source": [
    "No olvides discutir tu solución **en esta celda**."
   ]
  },
  {
   "cell_type": "markdown",
   "id": "2cf87381",
   "metadata": {
    "id": "766509ac"
   },
   "source": [
    "## Parte 03 - Usando TF-IDF [3 pts]\n",
    "\n",
    "En esta parte de la tarea debes explicar cómo crees que puede mejorar tu solución. Piensa en un escenario donde puedes sacar suficientes datos de correos que son y no son _spam_. ¿Qué harías en este escenario para entrenar un modelo que sea útil en la práctica?"
   ]
  },
  {
   "cell_type": "markdown",
   "id": "5c9bd5aa",
   "metadata": {},
   "source": [
    "Discute tu solución **aquí**."
   ]
  },
  {
   "cell_type": "markdown",
   "id": "0129a866",
   "metadata": {},
   "source": [
    "## Parte 04 - Bonus: usando todo el cuerpo [1 pto]\n",
    "\n",
    "El bonus de esta tarea es utilizar el cuerpo entero de los correos en vez de solamente el asunto. Entrena un clasificador que haga uso de estos datos y compáralo con tu solución anterior."
   ]
  },
  {
   "cell_type": "code",
   "execution_count": null,
   "id": "b825ab47",
   "metadata": {},
   "outputs": [],
   "source": []
  }
 ],
 "metadata": {
  "colab": {
   "collapsed_sections": [],
   "name": "Actividad Final - Solución.ipynb",
   "provenance": []
  },
  "kernelspec": {
   "display_name": "Python 3",
   "language": "python",
   "name": "python3"
  },
  "language_info": {
   "codemirror_mode": {
    "name": "ipython",
    "version": 3
   },
   "file_extension": ".py",
   "mimetype": "text/x-python",
   "name": "python",
   "nbconvert_exporter": "python",
   "pygments_lexer": "ipython3",
   "version": "3.9.5"
  }
 },
 "nbformat": 4,
 "nbformat_minor": 5
}
