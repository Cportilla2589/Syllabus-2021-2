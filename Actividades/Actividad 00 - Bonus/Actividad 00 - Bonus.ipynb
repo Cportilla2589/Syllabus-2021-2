{
 "cells": [
  {
   "cell_type": "markdown",
   "id": "12f9d67f",
   "metadata": {},
   "source": [
    "# Actividad 00 - Bonus\n",
    "\n",
    "Esta tarea es una continuación del ejemplo introductorio en el que agrupamos los datos de los metros de plaza de cada provincia y región. En esta actividad hemos sumado un nuevo `.csv`, llamado `presupuesto_2019.csv`. Aquí tenemos para cada comuna, su presupuesto para el año 2019. Entonces, en base a estos datos, en conjunto con `datos_comunas.csv` y `codigos.csv`, se pide lo siguiente.\n",
    "\n",
    "1. **\\[2 pts\\]** Carga los datos de presupuesto y utilice la función `describe()` para encontrar los cuartiles, promedios y la media de los presupuestos por comuna. Indica además el número de comunas con presupuesto **no recepcionado**. **Ojo**: los valores `\"No Recepcionado\"` que pueden dificultar el cálculo.\n",
    "2. **\\[1 pto\\]** Entrega el presupuesto total por región y por provincia, ordenado en cada caso de mayor a menor.\n",
    "3. **\\[1 pto\\]** Entrega el presupuesto promedio por región y por provincia, ordenado en cada caso de mayor a menor. ¿Cómo cambia el ranking cuando se considera el presupuesto total vs. el promedio?\n",
    "4. **\\[2 pts\\]** Entrega el top 20 de las comunas con más metros de plaza y el top 20 de las comunas con más presupuesto. ¿Hay alguna coincidencia entre ambos conjuntos?\n",
    "\n",
    "La idea de esta tarea es que te familiarices con el flujo de trabajo que involucra importar _notebooks_ desde GitHub a Colab.\n",
    "\n",
    "**Detalles académicos**: esta tarea es individual y su fecha de entrega es el miércoles 11 de agosto hasta las 20:00 horas. Debes entregar un _notebook_ con tu código y con texto en donde también discutas tus resultados. Cada punto de esta actividad es una décima que será sumada a alguna de tus tareas durante el semestre."
   ]
  },
  {
   "cell_type": "code",
   "execution_count": 26,
   "id": "59919d53",
   "metadata": {},
   "outputs": [],
   "source": [
    "import pandas as pd\n",
    "\n",
    "# Presupuesto se carga con encoding Latin-1 debido a ciertos caracteres \"extraños\"\n",
    "df_presupuesto = pd.read_csv(\"presupuesto_2019.csv\", encoding='Latin-1')"
   ]
  },
  {
   "cell_type": "code",
   "execution_count": null,
   "id": "6dddbb77",
   "metadata": {},
   "outputs": [],
   "source": []
  }
 ],
 "metadata": {
  "kernelspec": {
   "display_name": "Python 3",
   "language": "python",
   "name": "python3"
  },
  "language_info": {
   "codemirror_mode": {
    "name": "ipython",
    "version": 3
   },
   "file_extension": ".py",
   "mimetype": "text/x-python",
   "name": "python",
   "nbconvert_exporter": "python",
   "pygments_lexer": "ipython3",
   "version": "3.9.5"
  }
 },
 "nbformat": 4,
 "nbformat_minor": 5
}
